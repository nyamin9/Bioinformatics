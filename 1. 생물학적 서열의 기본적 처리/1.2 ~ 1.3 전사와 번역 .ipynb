{
 "cells": [
  {
   "cell_type": "markdown",
   "id": "fae83fcb",
   "metadata": {},
   "source": [
    "## 1.2 전사와 역상보"
   ]
  },
  {
   "cell_type": "markdown",
   "id": "42396a20",
   "metadata": {},
   "source": []
  },
  {
   "cell_type": "code",
   "execution_count": 9,
   "id": "cf57e571",
   "metadata": {},
   "outputs": [],
   "source": [
    "#1.DNA 서열이 유효한지 체크\n",
    "def validate_dna(dna_seq):\n",
    "    seqm = dna_seq.upper()\n",
    "    valid = seqm.count(\"A\") + seqm.count(\"T\") + seqm.count(\"G\") + seqm.count(\"C\")\n",
    "    if valid == len(seqm): return True\n",
    "    else: return False"
   ]
  },
  {
   "cell_type": "markdown",
   "id": "702832ac",
   "metadata": {},
   "source": []
  },
  {
   "cell_type": "markdown",
   "id": "f33fad5f",
   "metadata": {},
   "source": [
    "#### 1.입력한 DNA 서열을 전사한 RNA 서열을 만드는 함수 \n",
    "- transcription() 함수 생성\n",
    "- assert 구문으로 validate_dna() 함수를 불러와 서열의 유효성 확인:유효하지 않으면 Invalid DNA sequence 반환\n",
    "- T를 U로 replace 해서 전사한 RNA 서열 생성"
   ]
  },
  {
   "cell_type": "code",
   "execution_count": 10,
   "id": "fdf2db41",
   "metadata": {},
   "outputs": [
    {
     "name": "stdout",
     "output_type": "stream",
     "text": [
      "AUGGGAUCGUAGUCGUACUAGCUAGCUGAUGGUACUCGAUAGUCUACGUAGCUAGUGGUACUGGAUGGUACUCAGUAACAU\n"
     ]
    }
   ],
   "source": [
    "def transcription(dna_seq):\n",
    "    assert validate_dna(dna_seq), \"Invalid DNA sequence\"\n",
    "    return dna_seq.upper().replace(\"T\",\"U\")\n",
    "\n",
    "print(transcription(\"ATGGGATCGTAGTCGTACTAGCTAGCTGATGGTACTCGATAGTCTACGTAGCTAGTGGTACTGGATGGTACTCAGTAACAT\"))"
   ]
  },
  {
   "cell_type": "markdown",
   "id": "733abc4d",
   "metadata": {},
   "source": []
  },
  {
   "cell_type": "markdown",
   "id": "259a752d",
   "metadata": {},
   "source": [
    "#### 2.DNA 서열의 역상보서열\n",
    "- reverse_complement() 함수 생성\n",
    "- assert 구문으로 validate_dna() 함수를 불러와 서열의 유효성 확인:유효하지 않으면 Invalid DNA sequence 반환\n",
    "- comp라는 빈 문자열에 상보적인 서열 대입:역상보 서열이므로 새로 만들어지는 상보 염기가 comp 앞에 붙도록 설정"
   ]
  },
  {
   "cell_type": "code",
   "execution_count": 11,
   "id": "a35954ca",
   "metadata": {},
   "outputs": [
    {
     "name": "stdout",
     "output_type": "stream",
     "text": [
      "ATGTTACTGAGTACCATCCAGTACCACTAGCTACGTAGACTATCGAGTACCATCAGCTAGCTAGTACGACTACGATCCCAT\n"
     ]
    }
   ],
   "source": [
    "#2.DNA 서열의 역상보서열 p.112\n",
    "def reverse_complement(dna_seq):\n",
    "    assert validate_dna(dna_seq), \"Invalid DNA sequence\"\n",
    "    comp = \"\"\n",
    "    for c in dna_seq.upper():\n",
    "        if c == \"A\":\n",
    "            comp = \"T\" + comp\n",
    "        elif c == \"T\":\n",
    "            comp = \"A\" + comp\n",
    "        elif c == \"G\":\n",
    "            comp = \"C\" + comp\n",
    "        elif c == \"C\":\n",
    "            comp = \"G\" + comp\n",
    "    return comp\n",
    "\n",
    "print(reverse_complement(\"ATGGGATCGTAGTCGTACTAGCTAGCTGATGGTACTCGATAGTCTACGTAGCTAGTGGTACTGGATGGTACTCAGTAACAT\"))"
   ]
  },
  {
   "cell_type": "markdown",
   "id": "a98d5e8a",
   "metadata": {},
   "source": []
  },
  {
   "cell_type": "markdown",
   "id": "c69adecb",
   "metadata": {},
   "source": [
    "## 1.3 번역"
   ]
  },
  {
   "cell_type": "markdown",
   "id": "61f7fb03",
   "metadata": {},
   "source": []
  },
  {
   "cell_type": "markdown",
   "id": "1f49a119",
   "metadata": {},
   "source": [
    "#### 1.코돈을 아미노산으로 번역하기 위한 표준 유전 코드 딕셔너리\n",
    "- translate_codon() 함수 생성\n",
    "- 종결코돈은 _ 으로 선언\n",
    "- 유효하지 않은 코돈에 대해서는 None을 반환"
   ]
  },
  {
   "cell_type": "code",
   "execution_count": 12,
   "id": "6261c398",
   "metadata": {},
   "outputs": [],
   "source": [
    "def translate_codon(cod):\n",
    "    \n",
    "    tc = {\"GCT\":\"A\", \"GCC\":\"A\", \"GCG\":\"A\",\n",
    "          \"TGT\":\"C\", \"TGC\":\"C\",\n",
    "          \"GAT\":\"D\", \"GAC\":\"D\",\n",
    "          \"GAA\":\"E\", \"GAG\":\"E\",\n",
    "          \"TTT\":\"F\", \"TTC\":\"F\",\n",
    "          \"GGT\":\"G\", \"GGC\":\"G\", \"GGA\":\"G\", \"GGG\":\"G\",\n",
    "          \"CAT\":\"H\", \"CAC\":\"H\",\n",
    "          \"ATA\":\"I\", \"ATT\":\"I\", \"ATC\":\"I\",\n",
    "          \"AAA\":\"K\", \"AAG\":\"K\",\n",
    "          \"TTA\":\"L\", \"TTG\":\"L\", \"CTT\":\"L\", \"CTC\":\"L\", \"CTA\":\"L\", \"CTG\":\"L\",\n",
    "          \"ATG\":\"M\", \n",
    "          \"AAT\":\"N\", \"AAC\":\"N\",\n",
    "          \"CCT\":\"P\", \"CCC\":\"P\", \"CCA\":\"P\", \"CCG\":\"P\",\n",
    "          \"CAA\":\"Q\", \"CAG\":\"Q\",\n",
    "          \"CGT\":\"R\", \"CGC\":\"R\", \"CGA\":\"R\", \"CGG\":\"R\", \"AGA\":\"R\", \"AGG\":\"R\",\n",
    "          \"TCT\":\"S\", \"TCC\":\"S\", \"TCA\":\"S\", \"TCG\":\"S\", \"AGT\":\"S\", \"AGC\":\"S\",\n",
    "          \"ACT\":\"T\", \"ACC\":\"T\", \"ACA\":\"T\", \"ACG\":\"T\",\n",
    "          \"GTT\":\"V\", \"GTC\":\"V\", \"GTA\":\"V\", \"GTG\":\"V\",\n",
    "          \"TGG\":\"W\",\n",
    "          \"TAT\":\"Y\", \"TAC\":\"Y\",\n",
    "          \"TAA\":\"_\", \"TAG\":\"_\", \"TGA\":\"_\"}\n",
    "          \n",
    "    if cod in tc: return tc[cod]\n",
    "    else: return None"
   ]
  },
  {
   "cell_type": "markdown",
   "id": "c7a8a7dc",
   "metadata": {},
   "source": []
  },
  {
   "cell_type": "markdown",
   "id": "75ae4b53",
   "metadata": {},
   "source": [
    "#### 2. DNA 서열을 아미노산 서열로 번역\n",
    "- translate_seq() 함수 생성\n",
    "- assert 구문으로 validate_dna() 함수를 불러와 서열의 유효성 확인:유효하지 않으면 Invalid DNA sequence 반환\n",
    "- ini_pos 인수 : 처음 번역을 시작하는 위치\n",
    "- ini_pos 부터 3개씩 끊어가면서 아미노산 서열로 번역:translate_codon() 에서 가져옴"
   ]
  },
  {
   "cell_type": "markdown",
   "id": "e93d0cd5",
   "metadata": {},
   "source": [
    "#### 주형가닥 / 비주형가닥\n",
    "- 우리가 주는 DNA 서열이 비주형가닥(5'-3')이면 이는 주형가닥(3'-5')의 mRNA 서열과 T/U 차이 빼고는 동일하므로 바로 주형가닥의 아미노산 서열로 번역이 가능함\n",
    "- 반대로 주형가닥인 경우에는 구하는 아미노산 서열은 비주형가닥의 아미노산 서열임\n",
    "- 상황에 맞게 생각하기"
   ]
  },
  {
   "cell_type": "code",
   "execution_count": 13,
   "id": "48a62f3f",
   "metadata": {},
   "outputs": [
    {
     "name": "stdout",
     "output_type": "stream",
     "text": [
      "MGS_SY_LADGTR_ST_LVVLDGTQ_H\n",
      "MLLSTIQYH_LRRLSSTIS_LVRLRSH\n"
     ]
    }
   ],
   "source": [
    "def translate_seq(dna_seq, ini_pos = 0):\n",
    "    assert validate_dna(dna_seq), \"Invalid DNA sequence\"\n",
    "    seqm = dna_seq.upper()\n",
    "    seq_aa = \"\"\n",
    "    \n",
    "    for pos in range(ini_pos, len(seqm)-2, 3):\n",
    "        cod = seqm[pos:pos+3]\n",
    "        seq_aa += translate_codon(cod)\n",
    "    return seq_aa\n",
    "\n",
    "print(translate_seq(\"ATGGGATCGTAGTCGTACTAGCTAGCTGATGGTACTCGATAGTCTACGTAGCTAGTGGTACTGGATGGTACTCAGTAACAT\"))\n",
    "#역상보서열\n",
    "print(translate_seq(reverse_complement(\"ATGGGATCGTAGTCGTACTAGCTAGCTGATGGTACTCGATAGTCTACGTAGCTAGTGGTACTGGATGGTACTCAGTAACAT\")))\n"
   ]
  },
  {
   "cell_type": "markdown",
   "id": "12abaa1d",
   "metadata": {},
   "source": []
  },
  {
   "cell_type": "markdown",
   "id": "c78e5b27",
   "metadata": {},
   "source": [
    "#### 3.주어진 아미노산을 암호화하고 있는 각 코돈의 비율을 DNA서열로 표현\n",
    "- codon_usage() 함수 생성\n",
    "- assert 구문으로 validate_dna() 함수를 불러와 서열의 유효성 확인:유효하지 않으면 Invalid DNA sequence 반환\n",
    "- 주어진 아미노산을 암호화하는 서열이 있으면 딕셔너리에 추가\n",
    "- 추가할 때마다 total에 1씩 추가하여 주어진 아미노산의 전체 개수를 구함\n",
    "- 해당 아미노산을 암호화하는 서열과 각 코돈의 비율, 전체 개수를 반환"
   ]
  },
  {
   "cell_type": "code",
   "execution_count": 14,
   "id": "628a003f",
   "metadata": {},
   "outputs": [
    {
     "name": "stdout",
     "output_type": "stream",
     "text": [
      "({'TCG': 0.5, 'AGC': 0.5}, 2)\n"
     ]
    }
   ],
   "source": [
    "def codon_usage(dna_seq, aa):\n",
    "    assert validate_dna(dna_seq), \"Invalid DNA sequence\"\n",
    "    seqm = dna_seq.upper()\n",
    "    dic = {}\n",
    "    total = 0\n",
    "    for i in range(0, len(seqm)-2, 3):\n",
    "        cod = seqm[i:i+3]\n",
    "        if translate_codon(cod) == aa:\n",
    "            if cod in dic:\n",
    "                dic[cod] += 1\n",
    "            else:\n",
    "                dic[cod] = 1\n",
    "            total += 1\n",
    "    if total > 0:\n",
    "        for k in dic:\n",
    "            dic[k] /= total\n",
    "    return (dic, total)\n",
    "\n",
    "print(codon_usage(\"atagataactcgcatagc\", \"S\"))"
   ]
  },
  {
   "cell_type": "markdown",
   "id": "cd1db187",
   "metadata": {},
   "source": []
  },
  {
   "cell_type": "markdown",
   "id": "701e5395",
   "metadata": {},
   "source": []
  },
  {
   "cell_type": "markdown",
   "id": "39819905",
   "metadata": {},
   "source": [
    "##### <div style=\"text-align: right\"> 출처 : Bioinformatics Algorithms (에이콘출판, 2020) </div>"
   ]
  }
 ],
 "metadata": {
  "kernelspec": {
   "display_name": "Python 3",
   "language": "python",
   "name": "python3"
  },
  "language_info": {
   "codemirror_mode": {
    "name": "ipython",
    "version": 3
   },
   "file_extension": ".py",
   "mimetype": "text/x-python",
   "name": "python",
   "nbconvert_exporter": "python",
   "pygments_lexer": "ipython3",
   "version": "3.8.8"
  }
 },
 "nbformat": 4,
 "nbformat_minor": 5
}
