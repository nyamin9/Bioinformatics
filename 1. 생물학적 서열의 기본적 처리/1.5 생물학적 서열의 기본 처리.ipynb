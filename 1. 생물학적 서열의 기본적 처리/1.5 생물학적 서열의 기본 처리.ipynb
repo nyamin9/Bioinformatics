{
 "cells": [
  {
   "cell_type": "markdown",
   "id": "b8659f3d",
   "metadata": {},
   "source": [
    "## 1.5 생물학적 서열의 기본 처리\n",
    "- 이번에는 앞서서 만든 여러 함수들을 가지고 DNA 서열을 받으면 기본적으로 처리해야 할 것이 무엇이 있는지 정리해보자."
   ]
  },
  {
   "cell_type": "markdown",
   "id": "9dafa945",
   "metadata": {},
   "source": []
  },
  {
   "cell_type": "markdown",
   "id": "f5c9b5bf",
   "metadata": {},
   "source": [
    "### 1.5.1. 기본적 처리 요약"
   ]
  },
  {
   "cell_type": "markdown",
   "id": "25603cdf",
   "metadata": {},
   "source": [
    "- 다음 코드를 위해서는 앞선 포스팅에서 구현한 함수들이 sequences.py 라는 파일에 모두 들어가 있어야 한다.\n",
    "- (아나콘다 주피터 노트북을 사용하는 경우에는 sequences.ipynb 파일에 들어가 있으면 된다)\n",
    "- 1. validate_dna( ) : seq 서열의 DNA 유효성을 검사\n",
    "- 2. transcription( ) : DNA 서열을 전사한 RNA 서열 생성\n",
    "- 3. reverse_complement( ) : 역상보서열 생성\n",
    "- 4. gc_content( ) : DNA 서열에서 GC 염기의 비율 확인\n",
    "- 5. translate_seq( ) : DNA 서열을 아미노산 서열로 번역\n",
    "- 6. all_orfs_ord( ) : DNA 서열을 단백질 서열로 변환"
   ]
  },
  {
   "cell_type": "code",
   "execution_count": null,
   "id": "fe20a538",
   "metadata": {},
   "outputs": [],
   "source": [
    "from sequences import *\n",
    "seq = input(\"Insert DNA sequence: \")\n",
    "if validate_dna(seq):\n",
    "    print(\"Valid sequence\")\n",
    "    print(\"Transcription: \", transcription(seq))\n",
    "    print(\"Reverse complement: \", reverse_complement(seq))\n",
    "    print(\"GC content: \", gc_content(seq))\n",
    "    print(\"Direct translation: \", translate_seq(seq))\n",
    "    print(\"All proteins in ORFs(decreasing size): \", all_orfs_ord(seq))\n",
    "else:\n",
    "    print(\"DNA sequence is not valid\")"
   ]
  },
  {
   "cell_type": "markdown",
   "id": "52037d11",
   "metadata": {},
   "source": [
    "<b>>></b>   \n",
    "Insert DNA sequence: ATGGGATCGTAGTCGTACTAGCTAGCTGATGGTACTCGATAGTCTACGTAGCTAGTGGTACTGGATGGTACTCAGTAACAT  \n",
    "Valid sequence  \n",
    "Transcription:  AUGGGAUCGUAGUCGUACUAGCUAGCUGAUGGUACUCGAUAGUCUACGUAGCUAGUGGUACUGGAUGGUACUCAGUAACAU  \n",
    "Reverse complement:  ATGTTACTGAGTACCATCCAGTACCACTAGCTACGTAGACTATCGAGTACCATCAGCTAGCTAGTACGACTACGATCCCAT  \n",
    "GC content:  0.4567901234567901  \n",
    "Direct translation:  MGS_SY_LADGTR_ST_LVVLDGTQ_H  \n",
    "All proteins in ORFs(decreasing size):  ['MLLSTIQYH', 'MVLDSLRS', 'MGS']"
   ]
  },
  {
   "cell_type": "markdown",
   "id": "4f83a84a",
   "metadata": {},
   "source": []
  },
  {
   "cell_type": "markdown",
   "id": "a54c48ac",
   "metadata": {},
   "source": [
    "### 1.5.2 파일을 읽고 쓰기\n",
    "- read_seq_from_file( ) : 주어진 파일을 읽기 모드로 불러와서 여러 줄에 있는 내용을 한 줄로 읽어들임  \n",
    "    - \\n 을 일반간격으로 replace 해서 읽음  \n",
    "- write_seq_to_file( ) : 주어진 파일을 쓰기 모드로 불러오거나 파일을 생성해서 텍스트 파일에 내용을 작성"
   ]
  },
  {
   "cell_type": "code",
   "execution_count": null,
   "id": "7219abe8",
   "metadata": {},
   "outputs": [],
   "source": [
    "#여러 줄로 구성된 텍스트 파일에서 서열을 읽음\n",
    "def read_seq_from_file(filename):\n",
    "    fh = open(filename, \"r\")\n",
    "    lines = fh.readlines()\n",
    "    seq=\"\"\n",
    "    for l in lines:\n",
    "        seq += l.replace(\"\\n\", \"\")\n",
    "    fh.close()\n",
    "    return seq\n",
    "\n",
    "#서열을 파일에 입력\n",
    "def write_seq_to_file(seq, filename):\n",
    "    fh = open(filename, \"w\")\n",
    "    fh.write(seq)\n",
    "    fh.close()\n",
    "    return None\n",
    "\n",
    "print(read_seq_from_file('DNA sequence read.txt'))\n",
    "write_seq_to_file(\"ATGGGATCGTAGTCGTACTAGCTAGCTGATGGTACTCGATAGTCTACGTAGCTAGTGGTACTGGATGGTACTCAGTAACAT\", 'DNA sequence write.txt')"
   ]
  },
  {
   "cell_type": "markdown",
   "id": "9e44ebc6",
   "metadata": {},
   "source": [
    "<b>>></b>  \n",
    "ACGTACTGTAGCATAGCTAGCTACTAGAGTACGTACTCCATCTAGAGCTAGCACGACTGTAGTCTAGCATCGTACTACGATGCTGAGTCGTAGCTGATGCTGATCACGTACGCTACTAGCAGCTGATCTCTCTAGCTGATCGTAGTATTAGCTAGCTAC"
   ]
  },
  {
   "cell_type": "markdown",
   "id": "2cf3a570",
   "metadata": {},
   "source": []
  },
  {
   "cell_type": "markdown",
   "id": "42adba96",
   "metadata": {},
   "source": [
    "### 1.5.3. DNA의 최종 기본적 처리\n",
    "- .txt 파일의 DNA 서열을 read_seq_from_file( ) 함수로 읽어옴\n",
    "- 읽어온 DNA 서열에서 최종적으로 얻고자 하는 것은 결국 발현되는 단백질이기 때문에 이 단백질 서열을 파일에 작성해서 최종 처리함\n",
    "- all_orfs_ord( ) 함수를 호출하여 모든 리딩프레임에 대해서 개시코돈과 종결코돈을 고려한 단백질만 가져온다.  \n",
    "- all_orfs_ord( ) 함수에서 얻은 단백질 서열을 write_seq_to_file( ) 함수가 orf-i.txt 이름으로 생성한 파일에 작성해줌"
   ]
  },
  {
   "cell_type": "code",
   "execution_count": null,
   "id": "cf252287",
   "metadata": {},
   "outputs": [],
   "source": [
    "from sequences import *\n",
    "\n",
    "fname = input(\"Insert input filename: \")\n",
    "seq = read_seq_from_file(fname)\n",
    "if validate_dna(seq):\n",
    "    print(\"Valid sequence\")\n",
    "    print(\"Transcription: \", transcription(seq))\n",
    "    print(\"Reverse complement: \", reverse_complement(seq))\n",
    "    print(\"GC content: \", gc_content(seq))\n",
    "    print(\"Direct translation: \", translate_seq(seq))\n",
    "    orfs = all_orfs_ord(seq)\n",
    "    i = 1\n",
    "    for orf in orfs:\n",
    "        write_seq_to_file(orf, \"orf-\"+ str(i) + \".txt\")\n",
    "        i += 1\n",
    "else:\n",
    "    print(\"DNA sequence is not valid\")"
   ]
  },
  {
   "cell_type": "markdown",
   "id": "2d25f7e4",
   "metadata": {},
   "source": [
    "<b>>></b>   \n",
    "Insert input filename: DNA sequence write.txt  \n",
    "Valid sequence  \n",
    "Transcription:  AUGGGAUCGUAGUCGUACUAGCUAGCUGAUGGUACUCGAUAGUCUACGUAGCUAGUGGUACUGGAUGGUACUCAGUAACAU  \n",
    "Reverse complement:  ATGTTACTGAGTACCATCCAGTACCACTAGCTACGTAGACTATCGAGTACCATCAGCTAGCTAGTACGACTACGATCCCAT  \n",
    "GC content:  0.4567901234567901  \n",
    "Direct translation:  MGS_SY_LADGTR_ST_LVVLDGTQ_H"
   ]
  },
  {
   "cell_type": "markdown",
   "id": "35bccd26",
   "metadata": {},
   "source": []
  },
  {
   "cell_type": "markdown",
   "id": "81fe8967",
   "metadata": {},
   "source": []
  },
  {
   "cell_type": "markdown",
   "id": "6360591b",
   "metadata": {},
   "source": [
    "##### <div style=\"text-align: right\"> 출처 : Bioinformatics Algorithms (에이콘출판, 2020) </div>"
   ]
  }
 ],
 "metadata": {
  "kernelspec": {
   "display_name": "Python 3",
   "language": "python",
   "name": "python3"
  },
  "language_info": {
   "codemirror_mode": {
    "name": "ipython",
    "version": 3
   },
   "file_extension": ".py",
   "mimetype": "text/x-python",
   "name": "python",
   "nbconvert_exporter": "python",
   "pygments_lexer": "ipython3",
   "version": "3.8.8"
  }
 },
 "nbformat": 4,
 "nbformat_minor": 5
}
