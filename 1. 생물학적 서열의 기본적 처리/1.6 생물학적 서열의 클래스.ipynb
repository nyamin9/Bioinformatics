{
 "cells": [
  {
   "cell_type": "markdown",
   "id": "73269deb",
   "metadata": {},
   "source": [
    "## 1.6 생물학적 서열의 클래스\n",
    "- 서열을 처리하는 함수들로 이루어진 MySeq 클래스 생성"
   ]
  },
  {
   "cell_type": "markdown",
   "id": "68d6a8a1",
   "metadata": {},
   "source": []
  },
  {
   "cell_type": "code",
   "execution_count": 1,
   "id": "5f3af406",
   "metadata": {},
   "outputs": [],
   "source": [
    "# 코돈을 아미노산으로 번역하기 위한 표준 유전 코드 딕셔너리 \n",
    "\n",
    "def translate_codon(cod):\n",
    "    \n",
    "    tc = {\"GCT\":\"A\", \"GCC\":\"A\", \"GCG\":\"A\",\n",
    "          \"TGT\":\"C\", \"TGC\":\"C\",\n",
    "          \"GAT\":\"D\", \"GAC\":\"D\",\n",
    "          \"GAA\":\"E\", \"GAG\":\"E\",\n",
    "          \"TTT\":\"F\", \"TTC\":\"F\",\n",
    "          \"GGT\":\"G\", \"GGC\":\"G\", \"GGA\":\"G\", \"GGG\":\"G\",\n",
    "          \"CAT\":\"H\", \"CAC\":\"H\",\n",
    "          \"ATA\":\"I\", \"ATT\":\"I\", \"ATC\":\"I\",\n",
    "          \"AAA\":\"K\", \"AAG\":\"K\",\n",
    "          \"TTA\":\"L\", \"TTG\":\"L\", \"CTT\":\"L\", \"CTC\":\"L\", \"CTA\":\"L\", \"CTG\":\"L\",\n",
    "          \"ATG\":\"M\", \n",
    "          \"AAT\":\"N\", \"AAC\":\"N\",\n",
    "          \"CCT\":\"P\", \"CCC\":\"P\", \"CCA\":\"P\", \"CCG\":\"P\",\n",
    "          \"CAA\":\"Q\", \"CAG\":\"Q\",\n",
    "          \"CGT\":\"R\", \"CGC\":\"R\", \"CGA\":\"R\", \"CGG\":\"R\", \"AGA\":\"R\", \"AGG\":\"R\",\n",
    "          \"TCT\":\"S\", \"TCC\":\"S\", \"TCA\":\"S\", \"TCG\":\"S\", \"AGT\":\"S\", \"AGC\":\"S\",\n",
    "          \"ACT\":\"T\", \"ACC\":\"T\", \"ACA\":\"T\", \"ACG\":\"T\",\n",
    "          \"GTT\":\"V\", \"GTC\":\"V\", \"GTA\":\"V\", \"GTG\":\"V\",\n",
    "          \"TGG\":\"W\",\n",
    "          \"TAT\":\"Y\", \"TAC\":\"Y\",\n",
    "          \"TAA\":\"_\", \"TAG\":\"_\", \"TGA\":\"_\"}\n",
    "          \n",
    "    if cod in tc: return tc[cod]\n",
    "    else: return None"
   ]
  },
  {
   "cell_type": "code",
   "execution_count": 2,
   "id": "4ea33ae4",
   "metadata": {},
   "outputs": [],
   "source": [
    "# 생물학적 서열의 클래스\n",
    "\n",
    "class MySeq:\n",
    "    \n",
    "    def __init__(self, seq, seq_type = \"DNA\"):                  # MySeq 클래스의 요소 : seq, seq_type - default : DNA\n",
    "        self.seq = seq.upper()\n",
    "        self.seq_type = seq_type\n",
    "    \n",
    "    # seq의 길이를 반환\n",
    "    def __len__(self):                                           \n",
    "        return len(self.seq)\n",
    "    \n",
    "    # seq의 n번쨰 요소를 반환\n",
    "    def __getitem__(self, n):                                   \n",
    "        return self.seq[n]\n",
    "    \n",
    "    # seq을 슬라이싱\n",
    "    def __getslice__(self, i, j):                               \n",
    "        return self.seq[i:j]\n",
    "    \n",
    "    # seq 반환\n",
    "    def __str__(self):                                          \n",
    "        return self.seq\n",
    "    \n",
    "    # seq의 seq_type 반환\n",
    "    def get_seq_biotype(self):                                      \n",
    "        return self.seq_type\n",
    "    \n",
    "    # seq의 정보 반환 - seq, biotype\n",
    "    def show_info_seq(self):                                     \n",
    "        print(\"Sequence: \" + self.seq + \" biotype: \" + self.seq_type)\n",
    "        \n",
    "    # 서열 종류에 따른 허용문자 \n",
    "    def alphabet(self):\n",
    "        if(self.seq_type == \"DNA\"): return \"ACGT\"\n",
    "        elif (self.seq_type == \"RNA\"): return \"ACGU\"\n",
    "        elif (self.seq_type == \"PROTEIN\"): return \"ACDEFGHIKLMNPQRSTVWY\"\n",
    "        else: return None\n",
    "\n",
    "    # 서열 검증 \n",
    "    def validate(self):\n",
    "        alp = self.alphabet()                                   # alphabet() 메서드를 받음\n",
    "        res = True\n",
    "        i = 0\n",
    "        while i < len(self.seq) and res:\n",
    "            if self.seq[i] not in alp: res = False              # 서열이 허용문자 내에 없다면 res = False\n",
    "            else: i += 1                                        # 있으면 계속 진행\n",
    "        return res\n",
    "    \n",
    "    # DNA서열을 RNA서열로 바꿔주는 전사함수 \n",
    "    def transcription(self):\n",
    "        if(self.seq_type == \"DNA\"):\n",
    "            return MySeq(self.seq.replace(\"T\",\"U\"), \"RNA\")      # seq_type을 RNA로 replace\n",
    "        else:\n",
    "            return None\n",
    "    \n",
    "    # DNA서열의 역상보서열을 구하는 함수 \n",
    "    def reverse_comp(self):\n",
    "        if(self.seq_type != \"DNA\"): return None\n",
    "        comp = \"\"\n",
    "        for c in self.seq:\n",
    "            if (c == \"A\"): comp = \"T\" + comp\n",
    "            elif (c == \"T\"): comp = \"A\" + comp\n",
    "            elif (c == \"C\"): comp = \"G\" + comp\n",
    "            elif (c == \"G\"): comp = \"C\" + comp\n",
    "        return MySeq(comp, \"DNA\") \n",
    "    \n",
    "  # 단백질을 만드는 번역함수 \n",
    "    def translate(self, iniPos = 0):\n",
    "        if(self.seq_type != \"DNA\"): return None\n",
    "        seq_aa = \"\"\n",
    "        for pos in range(iniPos, len(self.seq)-2, 3):\n",
    "            cod = self.seq[pos:pos+3]\n",
    "            seq_aa += translate_codon(cod)                        # MySeq 클래스의 외부함수 translate_codon() - 클래스 외부함수 접근 역시 가능함\n",
    "        return MySeq(seq_aa, \"PROTEIN\")                           # seq_type : PROTEIN"
   ]
  },
  {
   "cell_type": "markdown",
   "id": "1e24ab82",
   "metadata": {},
   "source": []
  },
  {
   "cell_type": "markdown",
   "id": "aa739952",
   "metadata": {},
   "source": [
    "### 1.6.1 MySeq 클래스의 validate( ) 메서드 - 서열의 유효성 판별"
   ]
  },
  {
   "cell_type": "code",
   "execution_count": 3,
   "id": "5a49f845",
   "metadata": {},
   "outputs": [
    {
     "name": "stdout",
     "output_type": "stream",
     "text": [
      "True True\n"
     ]
    }
   ],
   "source": [
    "s1 = MySeq(\"ATGGGATCGTAGTCGTACTAGCTAGCTGATGGTACTCGATAGTCTACGTAGCTAGTGGTACTGGATGGTACTCAGTAACAT\")\n",
    "s2 = MySeq(\"MKVVLSVQERSVVSLL\", \"PROTEIN\")\n",
    "print(s1.validate(), s2.validate())    "
   ]
  },
  {
   "cell_type": "code",
   "execution_count": 4,
   "id": "b67fb791",
   "metadata": {},
   "outputs": [
    {
     "name": "stdout",
     "output_type": "stream",
     "text": [
      "False\n"
     ]
    }
   ],
   "source": [
    "s3 = MySeq(\"GTYSAFADASDBASDAF\")\n",
    "print(s3.validate())"
   ]
  },
  {
   "cell_type": "markdown",
   "id": "873d25fe",
   "metadata": {},
   "source": []
  },
  {
   "cell_type": "markdown",
   "id": "2cba4838",
   "metadata": {},
   "source": [
    "### 1.6.2 MySeq 클래스의 transcription( ) / show_info_seq( ) 메서드 - 전사 / 정보"
   ]
  },
  {
   "cell_type": "code",
   "execution_count": 5,
   "id": "a2d5515e",
   "metadata": {},
   "outputs": [
    {
     "name": "stdout",
     "output_type": "stream",
     "text": [
      "Sequence: AUGGGAUCGUAGUCGUACUAGCUAGCUGAUGGUACUCGAUAGUCUACGUAGCUAGUGGUACUGGAUGGUACUCAGUAACAU biotype: RNA\n"
     ]
    }
   ],
   "source": [
    "s1_rna = s1.transcription()\n",
    "s1_rna.show_info_seq()"
   ]
  },
  {
   "cell_type": "markdown",
   "id": "bb19047d",
   "metadata": {},
   "source": []
  },
  {
   "cell_type": "markdown",
   "id": "1434fc78",
   "metadata": {},
   "source": [
    "### 1.6.3 MySeq 클래스의 reverse_comp( ) 메서드 - 역상보서열"
   ]
  },
  {
   "cell_type": "code",
   "execution_count": 6,
   "id": "58bdab13",
   "metadata": {},
   "outputs": [
    {
     "name": "stdout",
     "output_type": "stream",
     "text": [
      "Sequence: ATGTTACTGAGTACCATCCAGTACCACTAGCTACGTAGACTATCGAGTACCATCAGCTAGCTAGTACGACTACGATCCCAT biotype: DNA\n"
     ]
    }
   ],
   "source": [
    "s1_reverse = s1.reverse_comp()\n",
    "s1_reverse.show_info_seq()"
   ]
  },
  {
   "cell_type": "markdown",
   "id": "01e1b5b6",
   "metadata": {},
   "source": []
  },
  {
   "cell_type": "markdown",
   "id": "c1c58684",
   "metadata": {},
   "source": [
    "### 1.6.4 MySeq 클래스의 translate( ) 메서드 - 번역"
   ]
  },
  {
   "cell_type": "code",
   "execution_count": 7,
   "id": "57a5fe13",
   "metadata": {},
   "outputs": [
    {
     "name": "stdout",
     "output_type": "stream",
     "text": [
      "Sequence: MLLSTIQYH_LRRLSSTIS_LVRLRSH biotype: PROTEIN\n"
     ]
    }
   ],
   "source": [
    "# 역상보서열 번역\n",
    "s1_prot = s1_reverse.translate()\n",
    "s1_prot.show_info_seq() "
   ]
  },
  {
   "cell_type": "code",
   "execution_count": 8,
   "id": "4f60c385",
   "metadata": {
    "scrolled": true
   },
   "outputs": [
    {
     "name": "stdout",
     "output_type": "stream",
     "text": [
      "Sequence: MGS_SY_LADGTR_ST_LVVLDGTQ_H biotype: PROTEIN\n"
     ]
    }
   ],
   "source": [
    "s1_prot_2 = s1.translate()\n",
    "s1_prot_2.show_info_seq() "
   ]
  },
  {
   "cell_type": "markdown",
   "id": "82ca5b93",
   "metadata": {},
   "source": []
  },
  {
   "cell_type": "markdown",
   "id": "c90ab9a4",
   "metadata": {},
   "source": []
  },
  {
   "cell_type": "markdown",
   "id": "d61aabb4",
   "metadata": {},
   "source": [
    "##### <div style=\"text-align: right\"> 출처 : Bioinformatics Algorithms (에이콘출판, 2020) </div>"
   ]
  }
 ],
 "metadata": {
  "kernelspec": {
   "display_name": "Python 3",
   "language": "python",
   "name": "python3"
  },
  "language_info": {
   "codemirror_mode": {
    "name": "ipython",
    "version": 3
   },
   "file_extension": ".py",
   "mimetype": "text/x-python",
   "name": "python",
   "nbconvert_exporter": "python",
   "pygments_lexer": "ipython3",
   "version": "3.8.8"
  }
 },
 "nbformat": 4,
 "nbformat_minor": 5
}
