{
 "cells": [
  {
   "cell_type": "markdown",
   "id": "3e9382e1",
   "metadata": {},
   "source": [
    "## 2.1 패턴찾기의 중요성\n",
    "* * *\n",
    "- 생물학적 정보는 DNA 서열로 유지되기 때문에 서열 데이터의 패턴 분석은 매우 중요함\n",
    "- 서열 데이터의 패턴은 분자의 특정 기능에 연관되어 있음\n",
    "- 단백질이 특정 기능을 수행하려면 단백질의 구조에 특정한 패턴이 필요하며, 그것에 상응하는 DNA 서열 패턴이 존재\n",
    "- 또한 DNA 서열에는 유전자 발현량을 조절하기 위한 결합부위 등이 관련되어 있기도 함"
   ]
  },
  {
   "cell_type": "markdown",
   "id": "1b3bd29b",
   "metadata": {},
   "source": []
  },
  {
   "cell_type": "markdown",
   "id": "d7a62610",
   "metadata": {},
   "source": []
  },
  {
   "cell_type": "markdown",
   "id": "12738dd0",
   "metadata": {},
   "source": [
    "## 2.2 고정된 패턴을 찾는 단순 알고리즘\n",
    "* * *\n",
    "- 찾으려는 패턴의 처음 위치를 찾거나 찾으려는 패턴의 모든 위치를 찾는 알고리즘\n",
    "- search_first_occ( ) 함수 생성 : 패턴이 처음 나타나는 위치를 반환하거나 발생하지 않으면 -1을 반환함 \n",
    "- search_all_occurences( ) 함수 생성 : 서열에서 패턴이 일치하는지 검사하고 위치 리스트를 반환함.  \n",
    "없으면 빈 리스트 반환\n",
    "- test_pat_search( ) 함수 : 사용자가 입력한 서열 데이터에도 적용가능"
   ]
  },
  {
   "cell_type": "code",
   "execution_count": 6,
   "id": "20b2e0b0",
   "metadata": {},
   "outputs": [
    {
     "name": "stdout",
     "output_type": "stream",
     "text": [
      "3\n",
      "-1\n"
     ]
    }
   ],
   "source": [
    "def search_first_occ(seq, pattern):\n",
    "    found = False\n",
    "    i = 0\n",
    "    while i < len(seq)-len(pattern) and not found:\n",
    "        j = 0\n",
    "        while j < len(pattern) and pattern[j]==seq[i+j]:\n",
    "            j = j + 1\n",
    "        if j == len(pattern):\n",
    "            found = True\n",
    "        else:\n",
    "            i += 1\n",
    "    if found: return i\n",
    "    else: return -1\n",
    "        \n",
    "seqDNA = \"ATAGAATAGATAATAGTC\"\n",
    "print(search_first_occ(seqDNA, \"GAAT\"))\n",
    "print(search_first_occ(seqDNA, \"TATA\"))"
   ]
  },
  {
   "cell_type": "markdown",
   "id": "d72cf275",
   "metadata": {},
   "source": [
    "🧬 search_first_occ( )\n",
    "- i : DNA seq 의 인덱스\n",
    "- j : pattern seq 의 인덱스\n",
    "- DNA 서열과 pattern 서열의 첫 염기가 다르면 i += 1 에 의해 DNA 서열을 한칸씩 이동하면서 읽음\n",
    "- 그러다가 첫 염기가 같으면 j = j + 1 에 의해 DNA([i+j]) 서열과 pattern([j]) 서열을 한칸씩 이동하면서 읽음\n",
    "- 만약 이러한 과정 중에 다른 염기가 발견되면 i += 1 을 실행하고 j는 다시 0으로 초기화\n",
    "- 찾는 pattern 과 완전히 일치하면 j == len(pattern) 에 의해 found = True\n",
    "- pattern 이 DNA seq 에서 처음 나타나는 위치인 i 를 반환함"
   ]
  },
  {
   "cell_type": "markdown",
   "id": "e087e33c",
   "metadata": {},
   "source": []
  },
  {
   "cell_type": "code",
   "execution_count": 7,
   "id": "45a38765",
   "metadata": {},
   "outputs": [
    {
     "name": "stdout",
     "output_type": "stream",
     "text": [
      "[4, 11]\n"
     ]
    }
   ],
   "source": [
    "def search_all_occurrences(seq, pattern):\n",
    "    res = []\n",
    "    for i in range(len(seq)-len(pattern)+1):\n",
    "        j = 0\n",
    "        while j < len(pattern) and pattern[j]==seq[i+j]:\n",
    "            j = j + 1\n",
    "        if j == len(pattern):\n",
    "            res.append(i)\n",
    "    return res\n",
    "\n",
    "seqDNA = \"ATAGAATAGATAATAGTC\"\n",
    "print(search_all_occurrences(seqDNA, \"AAT\"))"
   ]
  },
  {
   "cell_type": "markdown",
   "id": "bc90bac4",
   "metadata": {},
   "source": [
    "🧬 search_all_occurrences( )\n",
    "- i : DNA seq 의 인덱스\n",
    "- j : pattern seq 의 인덱스\n",
    "- DNA seq 과 pattern seq 의 첫 염기가 다르면 for문에 의해서 i += 1 이 되면서 DNA 서열을 한칸씩 이동하면서 읽음\n",
    "- 첫 염기가 같으면 j = j + 1 에 의해 DNA ([i+j]) 서열과 pattern seq ([j]) 서열을 한칸씩 이동하면서 읽음\n",
    "- 그러다가 완전히 일치하는 패턴이 발견되면 DNA seq에서 처음 나타나는 위치인 i 를 res 리스트에 추가\n",
    "- for 문에 의해서 모든 DNA 염기서열에 대해서 search 가 가능함\n",
    "- 이렇게 위치를 추가한 리스트인 res 반환"
   ]
  },
  {
   "cell_type": "markdown",
   "id": "df9a89b0",
   "metadata": {},
   "source": []
  },
  {
   "cell_type": "code",
   "execution_count": 9,
   "id": "c82f5291",
   "metadata": {},
   "outputs": [
    {
     "name": "stdout",
     "output_type": "stream",
     "text": [
      "Input sequence: ATGGGATCGTAGTCGTACTAGCTAGCTGATGGTACTCGATAGTCTACGTAGCTAGTGGTACTGGATGGTACTCAGTAACAT\n",
      "Input pattern: AT\n",
      "AT occrs in the following positions: \n",
      "[0, 5, 28, 38, 64, 79]\n"
     ]
    }
   ],
   "source": [
    "def test_pat_search():\n",
    "    seq = input(\"Input sequence: \")\n",
    "    pat = input(\"Input pattern: \")\n",
    "    print(pat, \"occrs in the following positions: \")\n",
    "    print(search_all_occurrences(seq, pat))\n",
    "    \n",
    "test_pat_search()"
   ]
  },
  {
   "cell_type": "markdown",
   "id": "f5496798",
   "metadata": {},
   "source": []
  },
  {
   "cell_type": "markdown",
   "id": "5ed496bc",
   "metadata": {},
   "source": []
  },
  {
   "cell_type": "markdown",
   "id": "e6c97fa6",
   "metadata": {},
   "source": [
    "##### <div style=\"text-align: right\"> 출처 : Bioinformatics Algorithms (에이콘출판, 2020) </div>"
   ]
  }
 ],
 "metadata": {
  "kernelspec": {
   "display_name": "Python 3",
   "language": "python",
   "name": "python3"
  },
  "language_info": {
   "codemirror_mode": {
    "name": "ipython",
    "version": 3
   },
   "file_extension": ".py",
   "mimetype": "text/x-python",
   "name": "python",
   "nbconvert_exporter": "python",
   "pygments_lexer": "ipython3",
   "version": "3.8.8"
  }
 },
 "nbformat": 4,
 "nbformat_minor": 5
}
