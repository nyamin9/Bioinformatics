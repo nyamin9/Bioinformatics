{
 "cells": [
  {
   "cell_type": "markdown",
   "id": "a89ddfb6",
   "metadata": {},
   "source": [
    "## 4.1 생물학적 서열 : 표현과 기본 알고리즘"
   ]
  },
  {
   "cell_type": "code",
   "execution_count": null,
   "id": "2df16519",
   "metadata": {},
   "outputs": [],
   "source": []
  },
  {
   "cell_type": "markdown",
   "id": "7bf807e1",
   "metadata": {},
   "source": [
    "#### 1. DNA 서열이 유효한지 체크 \n",
    "- validate_dna() 함수 생성  \n",
    "- 주어진 염기서열 dna_seq에 염기 A,T,G,C 외에 다른 것이 섞여있다면 유효한 서열이 아님 : False 출력"
   ]
  },
  {
   "cell_type": "code",
   "execution_count": 1,
   "id": "a3fc1f19",
   "metadata": {},
   "outputs": [
    {
     "name": "stdout",
     "output_type": "stream",
     "text": [
      "True\n",
      "False\n"
     ]
    }
   ],
   "source": [
    "def validate_dna(dna_seq):\n",
    "    seqm = dna_seq.upper()\n",
    "    valid = seqm.count(\"A\") + seqm.count(\"T\") + seqm.count(\"G\") + seqm.count(\"C\")\n",
    "    if valid == len(seqm): return True\n",
    "    else: return False\n",
    "    \n",
    "print(validate_dna(\"atagagagatctcg\"))\n",
    "print(validate_dna(\"ATAGAXTAGAT\")) "
   ]
  },
  {
   "cell_type": "code",
   "execution_count": null,
   "id": "30258ccd",
   "metadata": {},
   "outputs": [],
   "source": []
  },
  {
   "cell_type": "markdown",
   "id": "11423f26",
   "metadata": {},
   "source": [
    "#### 2. 서열에서 각 심볼의 빈도 계산\n",
    "- frequency()함수 생성\n",
    "- 빈 딕셔너리를 생성하여 서열에서 각 심볼들이 나올때의 개수를 count 해서 key/value 에 접근"
   ]
  },
  {
   "cell_type": "code",
   "execution_count": 2,
   "id": "f2b9c1d5",
   "metadata": {},
   "outputs": [
    {
     "name": "stdout",
     "output_type": "stream",
     "text": [
      "{'A': 19, 'T': 13, 'G': 17, 'C': 11}\n",
      "{'M': 2, 'V': 3, 'K': 3, 'S': 3, 'H': 3, 'L': 2, 'Q': 1, 'I': 1}\n"
     ]
    }
   ],
   "source": [
    "def frequency(seq):\n",
    "    dic = {}\n",
    "    for s in seq.upper():\n",
    "        if s in dic: dic[s] += 1\n",
    "        else: dic[s] = 1\n",
    "    return dic\n",
    "\n",
    "print(frequency(\"atggatcggtacagagcggatggtgaacgaacatatcatacggctagtactagctactga\"))\n",
    "print(frequency(\"MVVMKKSHHVLHSQSLIK\"))"
   ]
  },
  {
   "cell_type": "code",
   "execution_count": null,
   "id": "562a6250",
   "metadata": {},
   "outputs": [],
   "source": []
  },
  {
   "cell_type": "markdown",
   "id": "faed1443",
   "metadata": {},
   "source": [
    "#### 3. 입력받은 서열의 심볼 빈도 계산\n",
    "- 서열을 입력하여 frequendy() 함수에서 계산한 빈도를 바탕으로 key와 value에 접근\n",
    "- 개수가 많은 순서대로 정렬함."
   ]
  },
  {
   "cell_type": "code",
   "execution_count": 3,
   "id": "40db6180",
   "metadata": {},
   "outputs": [
    {
     "name": "stdout",
     "output_type": "stream",
     "text": [
      "Protein Sequence: ATGGGATCGTAGTCGTACTAGCTAGCTGATGGTACTCGATAGTCTACGTAGCTAGTGGTACTGGATGGTACTCAGTAACAT\n",
      "Aminoacid: T : 24\n",
      "Aminoacid: G : 23\n",
      "Aminoacid: A : 20\n",
      "Aminoacid: C : 14\n"
     ]
    }
   ],
   "source": [
    "seq_aa = input(\"Protein Sequence: \")\n",
    "freq_aa = frequency(seq_aa)\n",
    "list_f = sorted(freq_aa.items(), key = lambda x : x[1], reverse = True)\n",
    "\n",
    "for (k, v) in list_f:\n",
    "    print(\"Aminoacid:\", k, \":\", v)"
   ]
  },
  {
   "cell_type": "code",
   "execution_count": null,
   "id": "2f7a86a9",
   "metadata": {},
   "outputs": [],
   "source": []
  },
  {
   "cell_type": "markdown",
   "id": "94b15c4f",
   "metadata": {},
   "source": [
    "#### 4.DNA 서열에서 G/C 뉴클레오타이드의 퍼센트 반환\n",
    "- gc_content() 함수 생성\n",
    "- 염기서열의 심볼이 GCgc 중 하나이면 gc_count의 값 카운트\n",
    "- 전체 길이에 대한 비율을 반환"
   ]
  },
  {
   "cell_type": "code",
   "execution_count": 4,
   "id": "71041c0b",
   "metadata": {},
   "outputs": [
    {
     "name": "stdout",
     "output_type": "stream",
     "text": [
      "0.4666666666666667\n",
      "0.0\n"
     ]
    }
   ],
   "source": [
    "def gc_content(dna_seq):\n",
    "    gc_count = 0\n",
    "    for s in dna_seq:\n",
    "        if s in \"GCgc\": gc_count += 1\n",
    "    return gc_count / len(dna_seq)\n",
    "\n",
    "print(gc_content(\"atggatcggtacagagcggatggtgaacgaacatatcatacggctagtactagctactga\"))\n",
    "print(gc_content(\"MVVMKKSHHVLHSQSLIK\"))"
   ]
  },
  {
   "cell_type": "code",
   "execution_count": null,
   "id": "7f8692a8",
   "metadata": {},
   "outputs": [],
   "source": []
  },
  {
   "cell_type": "markdown",
   "id": "1f4b60a2",
   "metadata": {},
   "source": [
    "#### 5.중첩되지 않는 k 길이의 부분 서열에 대해 GC퍼센트 반환 \n",
    "- gc_content_subseq() 함수 생성\n",
    "- 주어진 염기서열을 일정한 k 만큼의 사이즈로 나눔\n",
    "- 각 부분 서열에 대해서 gc_content()를 계산하여 반환"
   ]
  },
  {
   "cell_type": "code",
   "execution_count": 5,
   "id": "d42f145e",
   "metadata": {},
   "outputs": [
    {
     "name": "stdout",
     "output_type": "stream",
     "text": [
      "[0.0, 0.3333333333333333, 0.3333333333333333, 0.6666666666666666, 0.3333333333333333, 0.6666666666666666]\n",
      "[0.0, 0.0, 0.0, 0.0, 0.0, 0.0]\n"
     ]
    }
   ],
   "source": [
    "def gc_content_subseq(dna_seq, k = 3):\n",
    "    res = []\n",
    "    for i in range(0, len(dna_seq)-k+1, k):\n",
    "        subseq = dna_seq[i:i+k]\n",
    "        gc = gc_content(subseq)\n",
    "        res.append(gc)\n",
    "    return res\n",
    "\n",
    "print(gc_content_subseq(\"atagataactcgcatagc\"))\n",
    "print(gc_content_subseq(\"MVVMKKSHHVLHSQSLIK\"))"
   ]
  },
  {
   "cell_type": "code",
   "execution_count": null,
   "id": "645fdb3b",
   "metadata": {},
   "outputs": [],
   "source": []
  },
  {
   "cell_type": "markdown",
   "id": "df308e59",
   "metadata": {},
   "source": [
    "#### 염기서열 - ATGGGATCGTAGTCGTACTAGCTAGCTGATGGTACTCGATAGTCTACGTAGCTAGTGGTACTGGATGGTACTCAGTAACAT"
   ]
  }
 ],
 "metadata": {
  "kernelspec": {
   "display_name": "Python 3",
   "language": "python",
   "name": "python3"
  },
  "language_info": {
   "codemirror_mode": {
    "name": "ipython",
    "version": 3
   },
   "file_extension": ".py",
   "mimetype": "text/x-python",
   "name": "python",
   "nbconvert_exporter": "python",
   "pygments_lexer": "ipython3",
   "version": "3.8.8"
  }
 },
 "nbformat": 4,
 "nbformat_minor": 5
}
